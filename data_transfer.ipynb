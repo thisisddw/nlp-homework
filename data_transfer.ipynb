{
 "cells": [
  {
   "cell_type": "markdown",
   "metadata": {},
   "source": [
    "把bert仓库里的数据搬来训练简单的cnn和rnn，以作对比。同时改一下数据格式。"
   ]
  },
  {
   "cell_type": "code",
   "execution_count": 1,
   "metadata": {},
   "outputs": [
    {
     "name": "stdout",
     "output_type": "stream",
     "text": [
      "['财经', '房产', '股票', '教育', '科技', '社会', '时政', '体育', '游戏', '娱乐']\n"
     ]
    }
   ],
   "source": [
    "path = 'test-bert/THUCNews/data/'\n",
    "files = ['dev.txt', 'test.txt', 'train.txt']\n",
    "# class_list = [x.strip() for x in open(\n",
    "#             'test-bert\\THUCNews\\data\\class.txt').readlines()] \n",
    "class_list = ['财经', '房产', '股票', '教育', '科技', '社会', '时政', '体育', '游戏', '娱乐']\n",
    "print(class_list)"
   ]
  },
  {
   "cell_type": "code",
   "execution_count": 2,
   "metadata": {},
   "outputs": [
    {
     "name": "stdout",
     "output_type": "stream",
     "text": [
      "transfer: test-bert/THUCNews/data/dev.txt -> cnews/dev.txt\n",
      "transfer: test-bert/THUCNews/data/test.txt -> cnews/test.txt\n",
      "transfer: test-bert/THUCNews/data/train.txt -> cnews/train.txt\n"
     ]
    }
   ],
   "source": [
    "output_path = 'cnews/'\n",
    "for file in files:\n",
    "    fout = open(output_path + file, \"w\")\n",
    "    with open(path + file, 'r') as fin:\n",
    "        cnt = 0\n",
    "        print(f'transfer: {path + file} -> {output_path + file}')\n",
    "        for line in fin:\n",
    "            strs = line.strip().split('\\t')\n",
    "            assert(len(strs) == 2)\n",
    "            title = strs[0]\n",
    "            type = int(strs[1])\n",
    "\n",
    "            # print(f'{class_list[type]}\\t{title}')\n",
    "            fout.write(f'{class_list[type]}\\t{title}\\n')\n",
    "            cnt += 1\n",
    "            # if cnt == 3:\n",
    "            #     break\n",
    "    fout.close()"
   ]
  }
 ],
 "metadata": {
  "kernelspec": {
   "display_name": "PyTorch-1.4",
   "language": "python",
   "name": "pytorch-1.4"
  },
  "language_info": {
   "codemirror_mode": {
    "name": "ipython",
    "version": 3
   },
   "file_extension": ".py",
   "mimetype": "text/x-python",
   "name": "python",
   "nbconvert_exporter": "python",
   "pygments_lexer": "ipython3",
   "version": "3.7.10"
  }
 },
 "nbformat": 4,
 "nbformat_minor": 4
}
